{
  "cells": [
    {
      "cell_type": "markdown",
      "metadata": {
        "id": "xAUSeapqPsrY"
      },
      "source": [
        "Exercise 2: Train a VAE to generate images similar to the images of the given fashion-mnist dataset. \n",
        "\n",
        "The dataset is given in two csv files (train and test). ALL data should be used to train the VAE. The csv files have headers, their first columns contain labels, and the remaining columns contain image data.\n",
        "\n",
        "Your should: write dataloaders, train an appropriate VAE, show a few samples and their corresponding decoded images, as well as a few of the generated samples.\n"
      ]
    },
    {
      "cell_type": "code",
      "execution_count": 1,
      "metadata": {
        "id": "TLW1J8EnzEur"
      },
      "outputs": [],
      "source": [
        "!wget -O data.zip https://www.dropbox.com/s/tzs174hrjs1rbzs/FashionMNIST.zip?dl=0\n",
        "!unzip data.zip"
      ]
    },
    {
      "cell_type": "code",
      "execution_count": 2,
      "metadata": {
        "id": "ThnJg32TKQYs"
      },
      "outputs": [],
      "source": [
        "import torch\n",
        "import torch.nn as nn\n",
        "import torch.nn.functional as F\n",
        "import torch.optim as optim\n",
        "import numpy as np\n",
        "import pandas as pd\n",
        "import matplotlib.pyplot as plt\n",
        "from torchvision import models,transforms\n",
        "from torchvision.utils import make_grid\n",
        "from torchvision.datasets import MNIST\n",
        "from torchsummary import summary\n",
        "from torch.utils.data import Dataset\n",
        "device = torch.device(\"cuda\" if torch.cuda.is_available() else \"cpu\")"
      ]
    },
    {
      "cell_type": "code",
      "source": [
        "class Datas(Dataset):\n",
        "  def __init__(self, data, transform=None):\n",
        "    super().__init__()\n",
        "\n",
        "    self.images = data.iloc[:, 1:].to_numpy().astype(np.float32).reshape(-1,28,28)/255\n",
        "\n",
        "    self.labels = data.iloc[:, 0].to_numpy()\n",
        "    \n",
        "    self.transform = transform \n",
        "\n",
        "    \n",
        "  def __len__(self,test=False):\n",
        "    return len(self.test_imagess) if test else len(self.images)\n",
        "\n",
        "  def __getitem__(self, index):\n",
        "    # if not test:\n",
        "    image = self.images[index]\n",
        "    image = torch.tensor(np.expand_dims(image, axis=0))\n",
        "    if self.transform:\n",
        "      image = self.transform(image)\n",
        "    label = torch.tensor(self.labels[index])\n",
        "    return image, label"
      ],
      "metadata": {
        "id": "TEFTQX-NzqAr"
      },
      "execution_count": 3,
      "outputs": []
    },
    {
      "cell_type": "code",
      "source": [
        "\n",
        "\n",
        "train_df = pd.read_csv('/content/fashion-mnist_train.csv')\n",
        "test_df = pd.read_csv('/content/fashion-mnist_test.csv')\n",
        "train = pd.concat((test_df, train_df), axis = 0)\n",
        "\n",
        "trainset=Datas(train)\n",
        "batch_size = 64\n",
        "trainloader = torch.utils.data.DataLoader(dataset=trainset,\n",
        "                         batch_size=batch_size, shuffle=True)\n"
      ],
      "metadata": {
        "id": "YBZCRka2iRhf"
      },
      "execution_count": 4,
      "outputs": []
    },
    {
      "cell_type": "code",
      "source": [
        "class VarAutoEncoder(nn.Module):\n",
        "  def __init__(self, nz=32):\n",
        "    super().__init__()\n",
        "    self.nz = nz\n",
        "    self.econv1 = nn.Conv2d(1, 16,3,2,1)\n",
        "    self.edrop1=nn.Dropout2d(p=0.3)\n",
        "    self.ebn1 = nn.BatchNorm2d(16)\n",
        "    self.edrop1=nn.Dropout2d(p=0.3)\n",
        "    self.econv2 = nn.Conv2d(16, 32, 3,2,1)\n",
        "    self.ebn2 = nn.BatchNorm2d(32)\n",
        "    self.econv3 = nn.Conv2d(32,64, 3, 2, 1)\n",
        "    self.ebn3 = nn.BatchNorm2d(64)\n",
        "    self.elinear1 = nn.Linear(64*4*4, 128)\n",
        "    self.ebn4 = nn.BatchNorm1d(128)\n",
        "    \n",
        "    self.dlinear1 = nn.Linear(nz,128)\n",
        "    self.dbn1 = nn.BatchNorm1d(128)\n",
        "    self.ddrop1=nn.Dropout(p=0.4)\n",
        "    self.dlinear2 = nn.Linear(128,64*4*4)\n",
        "    self.dbn2 = nn.BatchNorm2d(64)\n",
        "    self.dconv1 = nn.ConvTranspose2d(64, 32, 3, 2, 1)\n",
        "    self.dbn3 = nn.BatchNorm2d(32)\n",
        "    self.ddrop2=nn.Dropout2d(p=0.3)\n",
        "    self.dconv2 = nn.ConvTranspose2d(32, 16, 3, 2, 1, output_padding =1)\n",
        "    self.dbn4 = nn.BatchNorm2d(16)\n",
        "    self.dconv3 = nn.ConvTranspose2d(16, 1, 3, 2, 1, output_padding =1)\n",
        "    \n",
        "    self.ulinear = nn.Linear(128,nz)\n",
        "    self.slinear = nn.Linear(128,nz)\n",
        "\n",
        "\n",
        "  def encoder (self,x):\n",
        "    x = F.leaky_relu(self.econv1(x))\n",
        "    x = self.ebn1(x)\n",
        "    x=self.edrop1(x)\n",
        "    x = F.leaky_relu(self.econv2(x))\n",
        "    x = self.ebn2(x)\n",
        "    x=self.edrop1(x)\n",
        "    x = F.leaky_relu(self.econv3(x))\n",
        "    x = self.ebn3(x)\n",
        "    x = x.view(-1,64*4*4)\n",
        "    x = F.leaky_relu(self.elinear1(x))\n",
        "    x = self.ebn4(x)\n",
        "    return x\n",
        "  \n",
        "  def decoder(self, x):\n",
        "    x = F.leaky_relu(self.dlinear1(x))\n",
        "    x = self.dbn1(x)\n",
        "    x=self.ddrop1(x)\n",
        "    x = F.leaky_relu(self.dlinear2(x))\n",
        "    x = x.view(-1, 64,4,4)\n",
        "    x = self.dbn2(x)\n",
        "    x = F.leaky_relu(self.dconv1(x))\n",
        "    x = self.dbn3(x)\n",
        "    x=self.ddrop2(x)\n",
        "    x = F.leaky_relu(self.dconv2(x))\n",
        "    x = self.dbn4(x)\n",
        "    x = torch.sigmoid(self.dconv3(x))\n",
        "    return x\n",
        "\n",
        "  def get_params(self,x):\n",
        "    u = self.ulinear(x)\n",
        "    logvar = self.slinear(x)\n",
        "    return u, logvar\n",
        "\n",
        "  def reparametarization(self, u, logvar):\n",
        "    std = torch.exp(logvar/2)\n",
        "    z = u + std*torch.randn_like(u)\n",
        "    return z\n",
        "\n",
        "  def forward(self,x):\n",
        "    ex = self.encoder(x)\n",
        "    u, logvar = self.get_params(ex)\n",
        "    z = self.reparametarization(u, logvar)\n",
        "    x = self.decoder(z)\n",
        "    return ex,z, x, u, logvar "
      ],
      "metadata": {
        "id": "bG-_R6yfinMU"
      },
      "execution_count": 5,
      "outputs": []
    },
    {
      "cell_type": "code",
      "source": [
        "device = \"cuda\" if torch.cuda.is_available() else \"cpu\"\n",
        "'''net = VarAutoEncoder(32).to(device)\n",
        "\n",
        "summary(net, (1, 28, 28))'''"
      ],
      "metadata": {
        "colab": {
          "base_uri": "https://localhost:8080/",
          "height": 36
        },
        "id": "FQQzKP-ripVP",
        "outputId": "644e0c2d-dca0-45f7-8a20-9a49b0e6f998"
      },
      "execution_count": 6,
      "outputs": [
        {
          "output_type": "execute_result",
          "data": {
            "text/plain": [
              "'net = VarAutoEncoder(32).to(device)\\n\\nsummary(net, (1, 28, 28))'"
            ],
            "application/vnd.google.colaboratory.intrinsic+json": {
              "type": "string"
            }
          },
          "metadata": {},
          "execution_count": 6
        }
      ]
    },
    {
      "cell_type": "code",
      "source": [
        "device = \"cuda\" if torch.cuda.is_available() else \"cpu\"\n",
        "net = VarAutoEncoder(128).to(device)\n",
        "\n",
        "num_epochs = 20\n",
        "lr = 0.001\n",
        "mm = 0.5\n",
        "\n",
        "optimizer = optim.Adam(net.parameters(), lr = lr)\n",
        "ls = []\n",
        "\n",
        "def var_loss(Xhat, X, u, logvar):\n",
        "  KLD_WEIGHT = 0.0012\n",
        "  term1 = F.mse_loss(Xhat, X)\n",
        "  term2 = torch.mean(torch.sum(0.5*(1+logvar - torch.exp(logvar) - u**2), axis = 1), axis =0)\n",
        "  return (1- KLD_WEIGHT)* term1 - KLD_WEIGHT*term2\n",
        "\n",
        "for epoch in range(num_epochs):\n",
        "  total_loss = 0\n",
        "  for batch in trainloader:\n",
        "    X = batch[0].to(device)\n",
        "    ex, z,Xhat, u, logvar = net(X)\n",
        "    \n",
        "    loss = var_loss(Xhat, X,u, logvar )\n",
        "    optimizer.zero_grad()\n",
        "    loss.backward()\n",
        "    optimizer.step()\n",
        "    total_loss += loss.item()\n",
        "  print(epoch, total_loss)\n",
        "\n",
        "  ls.append(total_loss)\n",
        "\n",
        "plt.plot(ls)\n"
      ],
      "metadata": {
        "colab": {
          "base_uri": "https://localhost:8080/",
          "height": 629
        },
        "id": "P6Jf2slritjo",
        "outputId": "4c8aeb13-f98d-4d83-e347-8ba324fda7e6"
      },
      "execution_count": 7,
      "outputs": [
        {
          "output_type": "stream",
          "name": "stdout",
          "text": [
            "0 66.06775030121207\n",
            "1 48.162461422383785\n",
            "2 43.47301892191172\n",
            "3 41.60842826962471\n",
            "4 40.560901287943125\n",
            "5 39.98706419765949\n",
            "6 39.55865328013897\n",
            "7 39.20796616002917\n",
            "8 38.967508947476745\n",
            "9 38.82807142473757\n",
            "10 38.642954071983695\n",
            "11 38.4472315851599\n",
            "12 38.355663903057575\n",
            "13 38.23036809824407\n",
            "14 38.171774135902524\n",
            "15 38.07111392356455\n",
            "16 37.986001029610634\n",
            "17 37.83655725419521\n",
            "18 37.807813327759504\n",
            "19 37.73746966943145\n"
          ]
        },
        {
          "output_type": "execute_result",
          "data": {
            "text/plain": [
              "[<matplotlib.lines.Line2D at 0x7f4026af5640>]"
            ]
          },
          "metadata": {},
          "execution_count": 7
        },
        {
          "output_type": "display_data",
          "data": {
            "text/plain": [
              "<Figure size 432x288 with 1 Axes>"
            ],
            "image/png": "[encoded data removed]"
          },
          "metadata": {
            "needs_background": "light"
          }
        }
      ]
    },
    {
      "cell_type": "code",
      "source": [
        "net.eval()\n",
        "z = torch.randn(64,128)\n",
        "Xhat = net.decoder(z.to(device))"
      ],
      "metadata": {
        "id": "11hS0gVWiuDa"
      },
      "execution_count": 9,
      "outputs": []
    },
    {
      "cell_type": "code",
      "source": [
        "img = Xhat[0, 0]\n",
        "print(Xhat.shape, img.shape, img.dtype)\n",
        "plt.imshow(img.detach().cpu().numpy(), cmap='gray')\n"
      ],
      "metadata": {
        "colab": {
          "base_uri": "https://localhost:8080/",
          "height": 300
        },
        "id": "azZcYwH7iyty",
        "outputId": "45a932ba-d724-4649-ac0d-8ac6bc3c8d4f"
      },
      "execution_count": 10,
      "outputs": [
        {
          "output_type": "stream",
          "name": "stdout",
          "text": [
            "torch.Size([64, 1, 28, 28]) torch.Size([28, 28]) torch.float32\n"
          ]
        },
        {
          "output_type": "execute_result",
          "data": {
            "text/plain": [
              "<matplotlib.image.AxesImage at 0x7f4026c490d0>"
            ]
          },
          "metadata": {},
          "execution_count": 10
        },
        {
          "output_type": "display_data",
          "data": {
            "text/plain": [
              "<Figure size 432x288 with 1 Axes>"
            ],
            "image/png": "[encoded data removed]"
          },
          "metadata": {
            "needs_background": "light"
          }
        }
      ]
    },
    {
      "cell_type": "code",
      "source": [
        "for i in range(10):\n",
        "  plt.subplot(2,5,i+1)\n",
        "  plt.imshow(Xhat[i,0,:,:].detach().cpu().numpy(),cmap='gray')"
      ],
      "metadata": {
        "colab": {
          "base_uri": "https://localhost:8080/",
          "height": 227
        },
        "id": "zHt_ZUmgzZ59",
        "outputId": "7318ff84-247d-44fe-da92-7ca233e9b19f"
      },
      "execution_count": 11,
      "outputs": [
        {
          "output_type": "display_data",
          "data": {
            "text/plain": [
              "<Figure size 432x288 with 10 Axes>"
            ],
            "image/png": "[encoded data removed]"
          },
          "metadata": {
            "needs_background": "light"
          }
        }
      ]
    }
  ],
  "metadata": {
    "accelerator": "GPU",
    "colab": {
      "provenance": []
    },
    "gpuClass": "standard",
    "kernelspec": {
      "display_name": "Python 3",
      "name": "python3"
    },
    "language_info": {
      "name": "python"
    }
  },
  "nbformat": 4,
  "nbformat_minor": 0
}