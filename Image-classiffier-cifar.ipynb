{
  "cells": [
    {
      "cell_type": "markdown",
      "metadata": {
        "id": "mVCQ7LMdOzkW"
      },
      "source": [
        "Exercise 1: Train a classifier to predict the output labels of the given images. The training and validation images with their labels are given as numpy arrays (one row per image) in 5 chunks (see below). The test images (no labels) are given in a test.csv file (also with one row per image). The images are of size (32,32,3). \n",
        "\n",
        "- Write a Dataset class and use it for the dataloaders\n",
        "- Build and train an appropriate NN\n",
        "- Plot loss values during training and compute model accuracy"
      ]
    },
    {
      "cell_type": "code",
      "source": [
        "import torch\n",
        "import torch.nn as nn\n",
        "import torch.nn.functional as F\n",
        "import torch.optim as optim\n",
        "import numpy as np\n",
        "import matplotlib.pyplot as plt\n",
        "from torchvision import models,transforms\n",
        "from torchvision.utils import make_grid\n",
        "from torchsummary import summary\n",
        "import pandas as pd\n",
        "from torch.utils.data import Dataset\n",
        "device = torch.device(\"cuda\" if torch.cuda.is_available() else \"cpu\")\n",
        "from torch.utils.data import TensorDataset, DataLoader\n",
        "import torchvision\n",
        "import pandas as pd"
      ],
      "metadata": {
        "id": "_ppgRBooc0bi"
      },
      "execution_count": 19,
      "outputs": []
    },
    {
      "cell_type": "markdown",
      "metadata": {
        "id": "RvRQjLYpC0Xm"
      },
      "source": [
        "## Data uploading"
      ]
    },
    {
      "cell_type": "code",
      "execution_count": 2,
      "metadata": {
        "id": "wy3xxqGq5aHc",
        "outputId": "f14cc29f-3d91-4af2-ce43-57b30ef6f9ba",
        "colab": {
          "base_uri": "https://localhost:8080/"
        }
      },
      "outputs": [
        {
          "output_type": "stream",
          "name": "stdout",
          "text": [
            "--2023-01-16 10:25:44--  https://www.dropbox.com/s/bcrs90kyytjph42/cifar-10-batches-py.zip?dl=0\n",
            "Resolving www.dropbox.com (www.dropbox.com)... 162.125.3.18, 2620:100:6018:18::a27d:312\n",
            "Connecting to www.dropbox.com (www.dropbox.com)|162.125.3.18|:443... connected.\n",
            "HTTP request sent, awaiting response... 302 Found\n",
            "Location: /s/raw/bcrs90kyytjph42/cifar-10-batches-py.zip [following]\n",
            "--2023-01-16 10:25:45--  https://www.dropbox.com/s/raw/bcrs90kyytjph42/cifar-10-batches-py.zip\n",
            "Reusing existing connection to www.dropbox.com:443.\n",
            "HTTP request sent, awaiting response... 302 Found\n",
            "Location: https://uc0654292a3d9a78846ae426649e.dl-eu.dropboxusercontent.com/cd/0/inline/B0pElQ2o2t_Z_sTzeDZVnvGjuzkaUPNC7-A39QPwlOuj-A8LWRwYdps2_SAG80efI4lQaMzA1hOfd8I8__lyod2Bo8nuV413VrcneIACxWzWV1UZGspsaX6I0MHor336kJeraCmdQPBgc42CpweU8ffau02f07pi1MN62Kn2ZG2GYw/file# [following]\n",
            "--2023-01-16 10:25:45--  https://uc0654292a3d9a78846ae426649e.dl-eu.dropboxusercontent.com/cd/0/inline/B0pElQ2o2t_Z_sTzeDZVnvGjuzkaUPNC7-A39QPwlOuj-A8LWRwYdps2_SAG80efI4lQaMzA1hOfd8I8__lyod2Bo8nuV413VrcneIACxWzWV1UZGspsaX6I0MHor336kJeraCmdQPBgc42CpweU8ffau02f07pi1MN62Kn2ZG2GYw/file\n",
            "Resolving uc0654292a3d9a78846ae426649e.dl-eu.dropboxusercontent.com (uc0654292a3d9a78846ae426649e.dl-eu.dropboxusercontent.com)... 162.125.80.15, 2620:100:6018:15::a27d:30f\n",
            "Connecting to uc0654292a3d9a78846ae426649e.dl-eu.dropboxusercontent.com (uc0654292a3d9a78846ae426649e.dl-eu.dropboxusercontent.com)|162.125.80.15|:443... connected.\n",
            "HTTP request sent, awaiting response... 302 Found\n",
            "Location: /cd/0/inline2/B0oCxrGztShCkbFr8GfvEEk6w52ySuThcElEoCEi6YzHPHS3gOI9fjCkv2ci4NVbaC-WuhNvFyNAOsyj91fbwHchIqfo_QBWWElWO7jZaaCXc4yu9tbGaKXE6M98Ot_dIVhd-OyYkfbVDnue5AK8_qev9wt1qojC255qDlwozWJ3OorgkOJ7mkBiqLBMG2f3qCu1-eC3tNXJaRtY6jd3SHFSqZp3-w7aysAfGH2tk9fRfsinJUUzJfxsZzNt33etaGjK4Ke5ccUfIkoHJgdvJttsthcbIixZLTxYb0wFHro3zIa2UAihWcqZn44mq_3dIPsy5iNUTsXWDxKVoq7qh6TwKw27wq0n1QPvGCnNMPs5FOV8ep3aMHziiGtm1QdbCerYj3GUEVtugjWVyJFDfzJ0XqdG1F5xGB25OX5xUmPymQ/file [following]\n",
            "--2023-01-16 10:25:47--  https://uc0654292a3d9a78846ae426649e.dl-eu.dropboxusercontent.com/cd/0/inline2/B0oCxrGztShCkbFr8GfvEEk6w52ySuThcElEoCEi6YzHPHS3gOI9fjCkv2ci4NVbaC-WuhNvFyNAOsyj91fbwHchIqfo_QBWWElWO7jZaaCXc4yu9tbGaKXE6M98Ot_dIVhd-OyYkfbVDnue5AK8_qev9wt1qojC255qDlwozWJ3OorgkOJ7mkBiqLBMG2f3qCu1-eC3tNXJaRtY6jd3SHFSqZp3-w7aysAfGH2tk9fRfsinJUUzJfxsZzNt33etaGjK4Ke5ccUfIkoHJgdvJttsthcbIixZLTxYb0wFHro3zIa2UAihWcqZn44mq_3dIPsy5iNUTsXWDxKVoq7qh6TwKw27wq0n1QPvGCnNMPs5FOV8ep3aMHziiGtm1QdbCerYj3GUEVtugjWVyJFDfzJ0XqdG1F5xGB25OX5xUmPymQ/file\n",
            "Reusing existing connection to uc0654292a3d9a78846ae426649e.dl-eu.dropboxusercontent.com:443.\n",
            "HTTP request sent, awaiting response... 200 OK\n",
            "Length: 176410579 (168M) [application/zip]\n",
            "Saving to: ‘data.zip’\n",
            "\n",
            "data.zip            100%[===================>] 168.24M  13.1MB/s    in 14s     \n",
            "\n",
            "2023-01-16 10:26:03 (12.2 MB/s) - ‘data.zip’ saved [176410579/176410579]\n",
            "\n",
            "Archive:  data.zip\n",
            "replace __MACOSX/._cifar-10-batches-py? [y]es, [n]o, [A]ll, [N]one, [r]ename: y\n",
            "  inflating: __MACOSX/._cifar-10-batches-py  \n",
            "replace cifar-10-batches-py/data_batch_1? [y]es, [n]o, [A]ll, [N]one, [r]ename: y\n",
            "  inflating: cifar-10-batches-py/data_batch_1  \n",
            "replace __MACOSX/cifar-10-batches-py/._data_batch_1? [y]es, [n]o, [A]ll, [N]one, [r]ename: y\n",
            "  inflating: __MACOSX/cifar-10-batches-py/._data_batch_1  \n",
            "replace cifar-10-batches-py/.DS_Store? [y]es, [n]o, [A]ll, [N]one, [r]ename: a\n",
            "error:  invalid response [a]\n",
            "replace cifar-10-batches-py/.DS_Store? [y]es, [n]o, [A]ll, [N]one, [r]ename: A\n",
            "  inflating: cifar-10-batches-py/.DS_Store  \n",
            "  inflating: __MACOSX/cifar-10-batches-py/._.DS_Store  \n",
            "  inflating: cifar-10-batches-py/test.csv  \n",
            "  inflating: __MACOSX/cifar-10-batches-py/._test.csv  \n",
            "  inflating: cifar-10-batches-py/readme.html  \n",
            "  inflating: __MACOSX/cifar-10-batches-py/._readme.html  \n",
            "  inflating: cifar-10-batches-py/batches.meta  \n",
            "  inflating: __MACOSX/cifar-10-batches-py/._batches.meta  \n",
            "  inflating: cifar-10-batches-py/data_batch_2  \n",
            "  inflating: __MACOSX/cifar-10-batches-py/._data_batch_2  \n",
            "  inflating: cifar-10-batches-py/data_batch_5  \n",
            "  inflating: __MACOSX/cifar-10-batches-py/._data_batch_5  \n",
            "  inflating: cifar-10-batches-py/data_batch_4  \n",
            "  inflating: __MACOSX/cifar-10-batches-py/._data_batch_4  \n",
            "  inflating: cifar-10-batches-py/data_batch_3  \n",
            "  inflating: __MACOSX/cifar-10-batches-py/._data_batch_3  \n"
          ]
        }
      ],
      "source": [
        "!wget -O data.zip https://www.dropbox.com/s/bcrs90kyytjph42/cifar-10-batches-py.zip?dl=0\n",
        "!unzip data.zip\n",
        "\n",
        "def unpickle(file):\n",
        "    import pickle\n",
        "    with open(file, 'rb') as fo:\n",
        "        dict_ = pickle.load(fo, encoding='bytes')\n",
        "    return dict_\n",
        "\n",
        "# data is given in 5 chunks, read into numpy arrays\n",
        "dict1=unpickle(\"/content/cifar-10-batches-py/data_batch_1\")\n",
        "dict2=unpickle(\"/content/cifar-10-batches-py/data_batch_2\")\n",
        "dict3=unpickle(\"/content/cifar-10-batches-py/data_batch_3\")\n",
        "dict4=unpickle(\"/content/cifar-10-batches-py/data_batch_4\")\n",
        "dict5=unpickle(\"/content/cifar-10-batches-py/data_batch_5\")\n",
        "\n",
        "images1, labels1 = dict1[b\"data\"] , dict1[b\"labels\"]\n",
        "images2, labels2 = dict2[b\"data\"] , dict2[b\"labels\"]\n",
        "images3, labels3 = dict3[b\"data\"] , dict3[b\"labels\"]\n",
        "images4, labels4 = dict4[b\"data\"] , dict4[b\"labels\"]\n",
        "images5, labels5 = dict5[b\"data\"] , dict5[b\"labels\"]"
      ]
    },
    {
      "cell_type": "markdown",
      "metadata": {
        "id": "dn181Vv1C_Kr"
      },
      "source": [
        "## Dataset class and dataloaders\n",
        "##### - Create a dataset class and use it to construct dataloaders for training and validation.\n",
        "##### - Use one chunck of the data for validation and the rest for training. \n",
        "##### - Note: Concatenating numpy arrays can be done via np.concatenate()\n"
      ]
    },
    {
      "cell_type": "code",
      "source": [
        "class DATA(Dataset):\n",
        "\n",
        "    def __init__(self, images, labels):\n",
        "        super().__init__() \n",
        "        self.x=images.astype(np.float32).reshape(-1,3,32,32) / 255.0\n",
        "        \n",
        "        self.y=labels\n",
        "\n",
        "    def __len__(self):\n",
        "        return len(self.y)\n",
        "    \n",
        "    def __getitem__(self, idx):\n",
        "        image = self.x[idx]\n",
        "        image = torch.tensor(image)\n",
        "        \n",
        "        label = torch.tensor(self.y[idx])\n",
        "        return image, label"
      ],
      "metadata": {
        "id": "hxDfi2r1siva"
      },
      "execution_count": 3,
      "outputs": []
    },
    {
      "cell_type": "code",
      "source": [
        "trainImages=np.concatenate((images1, images2,  images3, images4), axis=0)\n",
        "trainLabels=np.concatenate((labels1, labels2,labels3,labels4), axis=0)\n",
        "\n",
        "trainset = DATA(trainImages, trainLabels)\n",
        "valImage=images5\n",
        "valLabels=labels5\n",
        "\n",
        "batch_size=4\n",
        "\n",
        "valset=DATA(valImage,valLabels)\n",
        "\n",
        "trainloader = torch.utils.data.DataLoader(trainset, batch_size=batch_size,\n",
        "                                          shuffle=True)\n",
        "\n",
        "valloader = torch.utils.data.DataLoader(valset, batch_size=batch_size,\n",
        "                                         shuffle=False)\n",
        "\n",
        "classes = ('plane', 'car', 'bird', 'cat',\n",
        "           'deer', 'dog', 'frog', 'horse', 'ship', 'truck')"
      ],
      "metadata": {
        "id": "r_bvlIBvuX2Y"
      },
      "execution_count": 4,
      "outputs": []
    },
    {
      "cell_type": "markdown",
      "metadata": {
        "id": "_nR19jrbDQj-"
      },
      "source": [
        "## Visualize the data\n",
        "##### Show a few samples of the training dataset\n"
      ]
    },
    {
      "cell_type": "code",
      "execution_count": 5,
      "metadata": {
        "id": "fHTVFDkDDXe2",
        "outputId": "7268c0a5-1aaa-4e75-a51a-589e6d3f5610",
        "colab": {
          "base_uri": "https://localhost:8080/",
          "height": 173
        }
      },
      "outputs": [
        {
          "output_type": "stream",
          "name": "stdout",
          "text": [
            "torch.Size([4, 3, 32, 32])\n"
          ]
        },
        {
          "output_type": "display_data",
          "data": {
            "text/plain": [
              "<Figure size 432x288 with 1 Axes>"
            ],
            "image/png": "[encoded data removed]"
          },
          "metadata": {
            "needs_background": "light"
          }
        },
        {
          "output_type": "stream",
          "name": "stdout",
          "text": [
            "car   ship  dog   car  \n"
          ]
        }
      ],
      "source": [
        "\n",
        "# functions to show an image\n",
        "def imshow(img):\n",
        "    #img = img / 2 + 0.5     # unnormalize\n",
        "    npimg = img.numpy()\n",
        "    plt.imshow(np.transpose(npimg, (1, 2, 0)))\n",
        "    plt.show()\n",
        "\n",
        "# get some random training images\n",
        "dataiter = iter(valloader)\n",
        "images, labels = next(dataiter)\n",
        "print(images.shape)\n",
        "# show images\n",
        "imshow(torchvision.utils.make_grid(images))\n",
        "# print labels\n",
        "print(' '.join(f'{classes[labels[j]]:5s}' for j in range(batch_size)))"
      ]
    },
    {
      "cell_type": "markdown",
      "metadata": {
        "id": "Vvpy9GmEDHEV"
      },
      "source": [
        "## Network definition"
      ]
    },
    {
      "cell_type": "code",
      "execution_count": 15,
      "metadata": {
        "id": "mgJmX72GDJZd",
        "colab": {
          "base_uri": "https://localhost:8080/"
        },
        "outputId": "e5de9cf8-cb70-4c6a-998b-614cbf8264f4"
      },
      "outputs": [
        {
          "output_type": "stream",
          "name": "stdout",
          "text": [
            "----------------------------------------------------------------\n",
            "        Layer (type)               Output Shape         Param #\n",
            "================================================================\n",
            "            Conv2d-1           [-1, 64, 29, 29]           3,136\n",
            "       BatchNorm2d-2           [-1, 64, 29, 29]             128\n",
            "         MaxPool2d-3           [-1, 64, 14, 14]               0\n",
            "         Dropout2d-4           [-1, 64, 14, 14]               0\n",
            "            Conv2d-5          [-1, 128, 12, 12]         204,928\n",
            "       BatchNorm2d-6          [-1, 128, 12, 12]             256\n",
            "         MaxPool2d-7            [-1, 128, 6, 6]               0\n",
            "            Linear-8                  [-1, 784]       3,613,456\n",
            "           Dropout-9                  [-1, 784]               0\n",
            "           Linear-10                  [-1, 512]         401,920\n",
            "          Dropout-11                  [-1, 512]               0\n",
            "           Linear-12                  [-1, 256]         131,328\n",
            "          Dropout-13                  [-1, 256]               0\n",
            "           Linear-14                   [-1, 10]           2,570\n",
            "================================================================\n",
            "Total params: 4,357,722\n",
            "Trainable params: 4,357,722\n",
            "Non-trainable params: 0\n",
            "----------------------------------------------------------------\n",
            "Input size (MB): 0.01\n",
            "Forward/backward pass size (MB): 1.35\n",
            "Params size (MB): 16.62\n",
            "Estimated Total Size (MB): 17.99\n",
            "----------------------------------------------------------------\n"
          ]
        }
      ],
      "source": [
        "class Net(nn.Module):\n",
        "    def __init__(self):\n",
        "        super(Net, self).__init__()\n",
        "        self.conv1 = nn.Conv2d(3, 64, 4)\n",
        "        self.pool = nn.MaxPool2d(2, 2)\n",
        "        self.drop1=nn.Dropout2d(p=0.3)\n",
        "        self.bn1= nn.BatchNorm2d(64)\n",
        "        self.conv2 = nn.Conv2d(64, 128, 5,1,1)\n",
        "        self.bn2= nn.BatchNorm2d(128)\n",
        "        self.fc1 = nn.Linear(128*6*6, 784)\n",
        "        self.fc2 = nn.Linear(784, 512)\n",
        "        self.fc3 = nn.Linear(512, 256)\n",
        "        self.drop2=nn.Dropout(p=0.4)\n",
        "        self.fc4 = nn.Linear(256, 10)\n",
        "\n",
        "    def forward(self, x):\n",
        "        x = self.pool(F.relu(self.bn1(self.conv1(x))))\n",
        "        x=self.drop1(x)\n",
        "        x = self.pool(F.relu(self.bn2(self.conv2(x))))\n",
        "        x = x.view(-1, 128*6*6)\n",
        "        x = F.relu(self.fc1(x))\n",
        "        x=self.drop2(x)\n",
        "        x = F.relu(self.fc2(x))\n",
        "        x=self.drop2(x)\n",
        "        x = F.relu(self.fc3(x))\n",
        "        x=self.drop2(x)\n",
        "        x = self.fc4(x)\n",
        "        return x\n",
        "net=Net()\n",
        "net.to(device)\n",
        "summary(net,(3,32,32))"
      ]
    },
    {
      "cell_type": "code",
      "source": [
        "criterion = nn.CrossEntropyLoss()\n",
        "optimizer = optim.Adam(net.parameters(), lr=0.0001)"
      ],
      "metadata": {
        "id": "5bVu_Yii7AhR"
      },
      "execution_count": 16,
      "outputs": []
    },
    {
      "cell_type": "markdown",
      "metadata": {
        "id": "nae-qh2GDbTT"
      },
      "source": [
        "## Training\n",
        "##### Plot loss values during training"
      ]
    },
    {
      "cell_type": "code",
      "execution_count": 40,
      "metadata": {
        "id": "gRClZhKYDg07",
        "outputId": "103cf3f1-6dc6-4e10-996f-f3d1434f7213",
        "colab": {
          "base_uri": "https://localhost:8080/",
          "height": 1000
        }
      },
      "outputs": [
        {
          "output_type": "stream",
          "name": "stdout",
          "text": [
            "[1,  2000] loss: 1.498\n",
            "[1,  4000] loss: 1.453\n",
            "[1,  6000] loss: 1.383\n",
            "[1,  8000] loss: 1.369\n",
            "[1, 10000] loss: 1.375\n",
            "Accuracy of the network validation images: 58 %\n",
            "[2,  2000] loss: 1.311\n",
            "[2,  4000] loss: 1.288\n",
            "[2,  6000] loss: 1.251\n",
            "[2,  8000] loss: 1.259\n",
            "[2, 10000] loss: 1.249\n",
            "Accuracy of the network validation images: 62 %\n",
            "[3,  2000] loss: 1.185\n",
            "[3,  4000] loss: 1.198\n",
            "[3,  6000] loss: 1.187\n",
            "[3,  8000] loss: 1.166\n",
            "[3, 10000] loss: 1.164\n",
            "Accuracy of the network validation images: 65 %\n",
            "[4,  2000] loss: 1.091\n",
            "[4,  4000] loss: 1.112\n",
            "[4,  6000] loss: 1.111\n",
            "[4,  8000] loss: 1.113\n",
            "[4, 10000] loss: 1.105\n",
            "Accuracy of the network validation images: 68 %\n",
            "[5,  2000] loss: 1.040\n",
            "[5,  4000] loss: 1.067\n",
            "[5,  6000] loss: 1.031\n",
            "[5,  8000] loss: 1.035\n",
            "[5, 10000] loss: 1.053\n",
            "Accuracy of the network validation images: 69 %\n",
            "[6,  2000] loss: 1.003\n",
            "[6,  4000] loss: 0.990\n",
            "[6,  6000] loss: 0.987\n",
            "[6,  8000] loss: 0.996\n",
            "[6, 10000] loss: 1.010\n",
            "Accuracy of the network validation images: 70 %\n",
            "[7,  2000] loss: 0.945\n",
            "[7,  4000] loss: 0.953\n",
            "[7,  6000] loss: 0.937\n",
            "[7,  8000] loss: 0.942\n",
            "[7, 10000] loss: 0.967\n",
            "Accuracy of the network validation images: 71 %\n",
            "[8,  2000] loss: 0.908\n",
            "[8,  4000] loss: 0.905\n",
            "[8,  6000] loss: 0.895\n",
            "[8,  8000] loss: 0.919\n",
            "[8, 10000] loss: 0.909\n",
            "Accuracy of the network validation images: 72 %\n",
            "[9,  2000] loss: 0.850\n",
            "[9,  4000] loss: 0.877\n",
            "[9,  6000] loss: 0.872\n",
            "[9,  8000] loss: 0.868\n",
            "[9, 10000] loss: 0.888\n",
            "Accuracy of the network validation images: 73 %\n",
            "[10,  2000] loss: 0.812\n",
            "[10,  4000] loss: 0.853\n",
            "[10,  6000] loss: 0.833\n",
            "[10,  8000] loss: 0.849\n",
            "[10, 10000] loss: 0.842\n",
            "Accuracy of the network validation images: 73 %\n",
            "[11,  2000] loss: 0.778\n",
            "[11,  4000] loss: 0.806\n",
            "[11,  6000] loss: 0.791\n",
            "[11,  8000] loss: 0.809\n",
            "[11, 10000] loss: 0.811\n",
            "Accuracy of the network validation images: 75 %\n",
            "[12,  2000] loss: 0.757\n",
            "[12,  4000] loss: 0.773\n",
            "[12,  6000] loss: 0.781\n",
            "[12,  8000] loss: 0.772\n",
            "[12, 10000] loss: 0.778\n",
            "Accuracy of the network validation images: 75 %\n",
            "[13,  2000] loss: 0.700\n",
            "[13,  4000] loss: 0.741\n",
            "[13,  6000] loss: 0.744\n",
            "[13,  8000] loss: 0.749\n",
            "[13, 10000] loss: 0.760\n",
            "Accuracy of the network validation images: 74 %\n",
            "[14,  2000] loss: 0.685\n",
            "[14,  4000] loss: 0.715\n",
            "[14,  6000] loss: 0.709\n",
            "[14,  8000] loss: 0.718\n",
            "[14, 10000] loss: 0.747\n",
            "Accuracy of the network validation images: 75 %\n",
            "[15,  2000] loss: 0.660\n",
            "[15,  4000] loss: 0.682\n",
            "[15,  6000] loss: 0.686\n",
            "[15,  8000] loss: 0.695\n",
            "[15, 10000] loss: 0.702\n",
            "Accuracy of the network validation images: 75 %\n",
            "[16,  2000] loss: 0.657\n",
            "[16,  4000] loss: 0.654\n",
            "[16,  6000] loss: 0.669\n",
            "[16,  8000] loss: 0.673\n",
            "[16, 10000] loss: 0.667\n",
            "Accuracy of the network validation images: 75 %\n",
            "[17,  2000] loss: 0.625\n",
            "[17,  4000] loss: 0.623\n",
            "[17,  6000] loss: 0.654\n",
            "[17,  8000] loss: 0.623\n",
            "[17, 10000] loss: 0.635\n",
            "Accuracy of the network validation images: 75 %\n",
            "[18,  2000] loss: 0.583\n",
            "[18,  4000] loss: 0.600\n",
            "[18,  6000] loss: 0.644\n",
            "[18,  8000] loss: 0.608\n",
            "[18, 10000] loss: 0.626\n",
            "Accuracy of the network validation images: 76 %\n",
            "[19,  2000] loss: 0.568\n",
            "[19,  4000] loss: 0.587\n",
            "[19,  6000] loss: 0.621\n",
            "[19,  8000] loss: 0.602\n",
            "[19, 10000] loss: 0.605\n",
            "Accuracy of the network validation images: 76 %\n",
            "[20,  2000] loss: 0.563\n",
            "[20,  4000] loss: 0.572\n",
            "[20,  6000] loss: 0.565\n",
            "[20,  8000] loss: 0.584\n",
            "[20, 10000] loss: 0.577\n",
            "Accuracy of the network validation images: 76 %\n",
            "Finished Training\n"
          ]
        },
        {
          "output_type": "display_data",
          "data": {
            "text/plain": [
              "<Figure size 432x288 with 1 Axes>"
            ],
            "image/png": "[encoded data removed]"
          },
          "metadata": {
            "needs_background": "light"
          }
        }
      ],
      "source": [
        "ls=[]\n",
        "for epoch in range(20):  # loop over the dataset multiple times\n",
        "    net.train()\n",
        "    running_loss = 0.0\n",
        "    for i, data in enumerate(trainloader, 0):\n",
        "        # get the inputs; data is a list of [inputs, labels]\n",
        "        inputs, labels = data\n",
        "        inputs, labels=inputs.to(device), labels.to(device)\n",
        "\n",
        "        # zero the parameter gradients\n",
        "        optimizer.zero_grad()\n",
        "\n",
        "        # forward + backward + optimize\n",
        "        outputs = net(inputs)\n",
        "        loss = criterion(outputs, labels)\n",
        "        loss.backward()\n",
        "        optimizer.step()\n",
        "\n",
        "        # print statistics\n",
        "        running_loss += loss.item()\n",
        "        ls.append(running_loss)\n",
        "        if i % 2000 == 1999:    # print every 2000 mini-batches\n",
        "            print(f'[{epoch + 1}, {i + 1:5d}] loss: {running_loss / 2000:.3f}')\n",
        "            \n",
        "            running_loss = 0.0\n",
        "    correct = 0\n",
        "    total = 0\n",
        "    # since we're not training, no need to calculate gradients\n",
        "    net.eval()\n",
        "    with torch.no_grad():\n",
        "        for data in valloader:\n",
        "            images, labels = data\n",
        "            images, labels=images.to(device), labels.to(device)\n",
        "            # run images through the network\n",
        "            outputs = net(images)\n",
        "            # the class with highest val is the prediction\n",
        "            predicted = torch.argmax(outputs.data, 1)\n",
        "            total += labels.size(0)\n",
        "            correct += (predicted == labels).sum().item()\n",
        "\n",
        "    print(f'Accuracy of the network validation images: {100 * correct // total} %')\n",
        "    \n",
        "  \n",
        "\n",
        "plt.plot(ls)\n",
        "print('Finished Training')\n"
      ]
    },
    {
      "cell_type": "markdown",
      "source": [],
      "metadata": {
        "id": "9KK7CWcZ8KIu"
      }
    },
    {
      "cell_type": "markdown",
      "source": [
        "## Validation\n",
        "##### Compute model accuracy\n",
        "\n"
      ],
      "metadata": {
        "id": "NjRcA2Lj8A70"
      }
    },
    {
      "cell_type": "code",
      "execution_count": 42,
      "metadata": {
        "id": "zM0y5K3SDiI-",
        "outputId": "896ec3bb-1e52-4b8c-8e7f-192af8db4377",
        "colab": {
          "base_uri": "https://localhost:8080/"
        }
      },
      "outputs": [
        {
          "output_type": "stream",
          "name": "stdout",
          "text": [
            "Accuracy of the network validation images: 76.58 %\n"
          ]
        }
      ],
      "source": [
        "correct = 0\n",
        "total = 0\n",
        "# since we're not training, no need to calculate gradients\n",
        "net.eval()\n",
        "with torch.no_grad():\n",
        "    for data in valloader:\n",
        "        images, labels = data\n",
        "        images, labels=images.to(device), labels.to(device)\n",
        "        # run images through the network\n",
        "        outputs = net(images)\n",
        "        # the class with highest val is the prediction\n",
        "        predicted = torch.argmax(outputs.data, 1)\n",
        "        total += labels.size(0)\n",
        "        correct += (predicted == labels).sum().item()\n",
        "\n",
        "print(f'Accuracy of the network validation images: {100 * correct / total} %')"
      ]
    },
    {
      "cell_type": "markdown",
      "metadata": {
        "id": "eLZWtE5JDjMk"
      },
      "source": [
        "## Testing\n",
        "##### Read the test.csv file into a numpy array, and then generate predictions\n",
        "##### Save the predictions to a file that you will email with your code"
      ]
    },
    {
      "cell_type": "code",
      "source": [
        "class Test(Dataset):\n",
        "\n",
        "    def __init__(self, imagesfile):\n",
        "        super().__init__()\n",
        "        df_x = pd.read_csv(imagesfile, header=None)       \n",
        "        self.X=df_x.iloc[:, :].to_numpy().astype(np.float32).reshape(-1,3,32,32) / 255.0\n",
        "\n",
        "    def __len__(self):\n",
        "        return 0\n",
        "    def __getitem__(self, idx):\n",
        "        image = self.X[idx]\n",
        "        image = torch.tensor(image)\n",
        "        return image"
      ],
      "metadata": {
        "id": "t3g3fHyAKKnO"
      },
      "execution_count": 38,
      "outputs": []
    },
    {
      "cell_type": "code",
      "execution_count": 125,
      "metadata": {
        "id": "1GtdvzvzDkhZ",
        "colab": {
          "base_uri": "https://localhost:8080/"
        },
        "outputId": "f1c1331e-4044-4512-8d3f-8dcb0528d21c"
      },
      "outputs": [
        {
          "output_type": "execute_result",
          "data": {
            "text/plain": [
              "()"
            ]
          },
          "metadata": {},
          "execution_count": 125
        }
      ],
      "source": [
        "from torch.types import Device\n",
        "from numpy import savetxt\n",
        "testset=Test('/content/cifar-10-batches-py/test.csv')\n",
        "testloader = torch.utils.data.DataLoader(testset, batch_size=batch_size,\n",
        "                            shuffle=False)\n",
        "device = 'cpu'\n",
        "net.to(device)\n",
        "predictionl=np.array(0)\n",
        "net.eval()\n",
        "with torch.no_grad():\n",
        "    for data in testloader:\n",
        "        images = data\n",
        "        images=images.to(device)\n",
        "        # run images through the network\n",
        "        outputs = net(images)\n",
        "        # the class with highest test is the prediction\n",
        "        predicted = torch.argmax(outputs.data, 1)\n",
        "        predicted = predicted.numpy()\n",
        "        predictionl = np.append(predictionl, predicted)\n",
        "predictionl.shape\n",
        "#savetxt(\"predictionl.csv\", predictionl, delimiter=\",\")"
      ]
    },
    {
      "cell_type": "code",
      "source": [
        "predicted"
      ],
      "metadata": {
        "colab": {
          "base_uri": "https://localhost:8080/"
        },
        "id": "3IaL4TyZTB6z",
        "outputId": "e96ba0c1-c13d-4d66-db79-f140edb4fc0b"
      },
      "execution_count": 126,
      "outputs": [
        {
          "output_type": "execute_result",
          "data": {
            "text/plain": [
              "tensor([6, 0, 1, 8], device='cuda:0')"
            ]
          },
          "metadata": {},
          "execution_count": 126
        }
      ]
    },
    {
      "cell_type": "code",
      "source": [
        "# save the model\n",
        "PATH = '\\myNet.pth'\n",
        "torch.save(net.state_dict(), PATH)\n",
        "# the below lines will load the model\n",
        "# net = Net()\n",
        "# net.load_state_dict(torch.load(PATH))"
      ],
      "metadata": {
        "id": "GxMRaWFahBZD"
      },
      "execution_count": 129,
      "outputs": []
    }
  ],
  "metadata": {
    "colab": {
      "provenance": []
    },
    "kernelspec": {
      "display_name": "Python 3",
      "name": "python3"
    },
    "language_info": {
      "name": "python"
    },
    "accelerator": "GPU",
    "gpuClass": "standard"
  },
  "nbformat": 4,
  "nbformat_minor": 0
}